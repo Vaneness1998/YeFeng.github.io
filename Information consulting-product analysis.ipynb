{
 "cells": [
  {
   "cell_type": "markdown",
   "metadata": {},
   "source": [
    "#  Information consulting-product analysis"
   ]
  },
  {
   "cell_type": "markdown",
   "metadata": {},
   "source": [
    "### Preperation:"
   ]
  },
  {
   "cell_type": "code",
   "execution_count": 1,
   "metadata": {},
   "outputs": [],
   "source": [
    "%matplotlib inline"
   ]
  },
  {
   "cell_type": "code",
   "execution_count": 91,
   "metadata": {},
   "outputs": [],
   "source": [
    "import matplotlib.pyplot as plt\n",
    "import numpy as np\n",
    "import pandas as pd\n",
    "import sklearn\n",
    "# to use interactivity\n",
    "import ipywidgets"
   ]
  },
  {
   "cell_type": "code",
   "execution_count": 3,
   "metadata": {},
   "outputs": [],
   "source": [
    "import pandas as pd"
   ]
  },
  {
   "cell_type": "code",
   "execution_count": 15,
   "metadata": {},
   "outputs": [
    {
     "name": "stderr",
     "output_type": "stream",
     "text": [
      "D:\\anaconda\\envs\\DataViz\\lib\\site-packages\\IPython\\core\\interactiveshell.py:3071: DtypeWarning: Columns (2,12) have mixed types.Specify dtype option on import or set low_memory=False.\n",
      "  has_raised = await self.run_ast_nodes(code_ast.body, cell_name,\n"
     ]
    }
   ],
   "source": [
    "products = pd.read_csv('Dropshipping Data Analysis.csv') # this is if the file is stored locally"
   ]
  },
  {
   "cell_type": "code",
   "execution_count": 16,
   "metadata": {},
   "outputs": [
    {
     "data": {
      "text/html": [
       "<div>\n",
       "<style scoped>\n",
       "    .dataframe tbody tr th:only-of-type {\n",
       "        vertical-align: middle;\n",
       "    }\n",
       "\n",
       "    .dataframe tbody tr th {\n",
       "        vertical-align: top;\n",
       "    }\n",
       "\n",
       "    .dataframe thead th {\n",
       "        text-align: right;\n",
       "    }\n",
       "</style>\n",
       "<table border=\"1\" class=\"dataframe\">\n",
       "  <thead>\n",
       "    <tr style=\"text-align: right;\">\n",
       "      <th></th>\n",
       "      <th>Product Name</th>\n",
       "      <th>SKU</th>\n",
       "      <th>UPC</th>\n",
       "      <th>Wholesale</th>\n",
       "      <th>Gold</th>\n",
       "      <th>MANUFACTURER</th>\n",
       "      <th>CATEGORY</th>\n",
       "      <th>SHORT</th>\n",
       "      <th>DESCRIPTION</th>\n",
       "      <th>WEIGHT</th>\n",
       "      <th>...</th>\n",
       "      <th>Sulforaphane</th>\n",
       "      <th>Thistle</th>\n",
       "      <th>Triphala</th>\n",
       "      <th>Virgin Coconut Oil</th>\n",
       "      <th>Whey</th>\n",
       "      <th>beta-Carotene</th>\n",
       "      <th>ibogaine</th>\n",
       "      <th>phytoestrogens</th>\n",
       "      <th>Ziziphus spinosa</th>\n",
       "      <th>St. Johns Wort</th>\n",
       "    </tr>\n",
       "  </thead>\n",
       "  <tbody>\n",
       "    <tr>\n",
       "      <th>0</th>\n",
       "      <td>Chunks Carob Hawaiian Spirulina (1x10LB)</td>\n",
       "      <td>10979</td>\n",
       "      <td>769270100017</td>\n",
       "      <td>51.0</td>\n",
       "      <td>48.45</td>\n",
       "      <td>Chunks</td>\n",
       "      <td>Grocery/Snacks/Candy</td>\n",
       "      <td>Chunks Carob Hawaiian Spirulina (1x10LB)</td>\n",
       "      <td>Save  On Chunks 1X10Lbcarob Hawaiian Spirulina...</td>\n",
       "      <td>11.3</td>\n",
       "      <td>...</td>\n",
       "      <td>0.0</td>\n",
       "      <td>0.0</td>\n",
       "      <td>0.0</td>\n",
       "      <td>0.0</td>\n",
       "      <td>0.0</td>\n",
       "      <td>0.0</td>\n",
       "      <td>0.0</td>\n",
       "      <td>0.0</td>\n",
       "      <td>0.0</td>\n",
       "      <td>0.0</td>\n",
       "    </tr>\n",
       "  </tbody>\n",
       "</table>\n",
       "<p>1 rows × 146 columns</p>\n",
       "</div>"
      ],
      "text/plain": [
       "                               Product Name    SKU           UPC  Wholesale  \\\n",
       "0  Chunks Carob Hawaiian Spirulina (1x10LB)  10979  769270100017       51.0   \n",
       "\n",
       "    Gold MANUFACTURER              CATEGORY  \\\n",
       "0  48.45       Chunks  Grocery/Snacks/Candy   \n",
       "\n",
       "                                      SHORT  \\\n",
       "0  Chunks Carob Hawaiian Spirulina (1x10LB)   \n",
       "\n",
       "                                         DESCRIPTION  WEIGHT  ...  \\\n",
       "0  Save  On Chunks 1X10Lbcarob Hawaiian Spirulina...    11.3  ...   \n",
       "\n",
       "  Sulforaphane Thistle Triphala Virgin Coconut Oil Whey beta-Carotene  \\\n",
       "0          0.0     0.0      0.0                0.0  0.0           0.0   \n",
       "\n",
       "  ibogaine phytoestrogens Ziziphus spinosa St. Johns Wort  \n",
       "0      0.0            0.0              0.0            0.0  \n",
       "\n",
       "[1 rows x 146 columns]"
      ]
     },
     "execution_count": 16,
     "metadata": {},
     "output_type": "execute_result"
    }
   ],
   "source": [
    "products.head(1)"
   ]
  },
  {
   "cell_type": "code",
   "execution_count": 6,
   "metadata": {},
   "outputs": [
    {
     "data": {
      "text/plain": [
       "RangeIndex(start=0, stop=18890, step=1)"
      ]
     },
     "execution_count": 6,
     "metadata": {},
     "output_type": "execute_result"
    }
   ],
   "source": [
    "products.index"
   ]
  },
  {
   "cell_type": "markdown",
   "metadata": {},
   "source": [
    "# 1 Selected products that contians effective ingredients"
   ]
  },
  {
   "cell_type": "code",
   "execution_count": 49,
   "metadata": {},
   "outputs": [],
   "source": [
    "lists = list(products.columns.values)"
   ]
  },
  {
   "cell_type": "code",
   "execution_count": 50,
   "metadata": {},
   "outputs": [
    {
     "data": {
      "text/plain": [
       "['Product Name',\n",
       " 'SKU',\n",
       " 'UPC',\n",
       " 'Wholesale',\n",
       " 'Gold',\n",
       " 'MANUFACTURER',\n",
       " 'CATEGORY',\n",
       " 'SHORT',\n",
       " 'DESCRIPTION',\n",
       " 'WEIGHT',\n",
       " 'IMAGE NAME',\n",
       " 'Gluten Free',\n",
       " 'Nut Free',\n",
       " 'Kosher',\n",
       " 'Vegan',\n",
       " 'Dairy Free',\n",
       " 'Pack Size',\n",
       " 'cat1',\n",
       " 'cat2',\n",
       " 'cat3',\n",
       " 'Melissa / Lemonbalm',\n",
       " 'Rhodiola / Tibetan Ginseng',\n",
       " 'Lysergic Acid Diethylamide / LSD',\n",
       " 'Docosahexaenoic acid / DHA',\n",
       " \"Lion's Mane / Hericium Erinaceus\",\n",
       " 'Chlorella / Algae',\n",
       " 'Lactobacillus casei / Shirota',\n",
       " 'NAC / N-acetyl-L-cysteine',\n",
       " 'Nicotinamide adenine dinucleotide / NADH',\n",
       " 'DHA / Docosahexaenoic Acid',\n",
       " 'EPA / Eicosapentaenoic Acid',\n",
       " 'Ginseng / Siberian',\n",
       " 'Homeopathic Treatment / Pulsatilla nigricans',\n",
       " 'Linden / Tilia',\n",
       " 'Pycnogenol / Pine Bark',\n",
       " 'Kava Kava',\n",
       " 'Lavender',\n",
       " 'Vitamin C',\n",
       " 'Magnolia',\n",
       " 'Rose',\n",
       " 'Bergamot',\n",
       " 'Chocolate',\n",
       " 'Homeopathic ',\n",
       " 'Lysine',\n",
       " 'Phellodendron',\n",
       " 'Valerian',\n",
       " 'Curcumin',\n",
       " 'Rosemary',\n",
       " 'Coffee',\n",
       " 'Arginine',\n",
       " 'Chamomile',\n",
       " 'Phosphatidylserine',\n",
       " 'Melatonin',\n",
       " 'Black Pepper',\n",
       " 'Psilocybin',\n",
       " 'Theanine',\n",
       " 'Caffeine',\n",
       " 'Ginkgo biloba',\n",
       " 'Motherwort',\n",
       " 'Orange',\n",
       " 'Patchouli',\n",
       " 'Probiotics',\n",
       " 'Ylang-ylang',\n",
       " 'Zinc',\n",
       " 'Holy Basil',\n",
       " 'Tryptophan',\n",
       " 'Ayahuasca',\n",
       " 'Cannabidiol',\n",
       " 'Fish Oil',\n",
       " 'Gotu Kola',\n",
       " 'Vitamin E',\n",
       " 'Cannabis',\n",
       " 'Skullcap',\n",
       " 'Antioxidant formulas',\n",
       " 'Ayurvedic Formulations',\n",
       " 'Bach Flower Remedies',\n",
       " 'Beta Sitosterol',\n",
       " 'Black Tea',\n",
       " 'Chicken extract',\n",
       " 'Coconut',\n",
       " 'Epimedium',\n",
       " 'Frankincense',\n",
       " 'Gourd',\n",
       " 'Lemongrass',\n",
       " 'Musk ',\n",
       " 'Omega-3 Fatty Acids',\n",
       " 'Passion Flower',\n",
       " 'Phosphatidylcholine',\n",
       " 'Piperidines',\n",
       " 'Pumpkin Seed ',\n",
       " 'Sweet Orange',\n",
       " 'Chinese Skullcap',\n",
       " 'Ashwagandha',\n",
       " 'Schisandra',\n",
       " 'Saffron',\n",
       " 'Bifidobacterium Longum',\n",
       " 'Cumin',\n",
       " 'Echinacea',\n",
       " 'Lactobacillus rhamnosus',\n",
       " 'Lemon',\n",
       " 'Sea buckthorn',\n",
       " 'Tualang Honey',\n",
       " 'Noni',\n",
       " 'Resveratrol',\n",
       " 'Astaxanthin',\n",
       " 'Bacopa',\n",
       " 'Bamboo',\n",
       " 'Boerhaavia diffusa',\n",
       " 'Buckwheat',\n",
       " 'Catechin',\n",
       " 'Chokeberry',\n",
       " 'Cordyceps sinensis',\n",
       " 'Coriandrum sativum',\n",
       " 'Damiana',\n",
       " 'Geraniol',\n",
       " 'Green Tea',\n",
       " 'Inula racemosa',\n",
       " 'Lactobacillus paracasei',\n",
       " 'Lactobacillus probiotics',\n",
       " 'Lactobacillus reuteri',\n",
       " 'Lingonberry',\n",
       " 'Lotus',\n",
       " 'Luteolin',\n",
       " 'Magnesium',\n",
       " 'Mango',\n",
       " 'Milk Thistle',\n",
       " 'Neem',\n",
       " 'Nettle',\n",
       " 'Oats',\n",
       " 'Peppermint',\n",
       " 'Piperine',\n",
       " 'Pomegranate',\n",
       " 'Prebiotics',\n",
       " 'Salvia divinorum',\n",
       " 'Shilajit',\n",
       " 'Silibinin',\n",
       " 'Sulforaphane',\n",
       " 'Thistle',\n",
       " 'Triphala',\n",
       " 'Virgin Coconut Oil',\n",
       " 'Whey',\n",
       " 'beta-Carotene',\n",
       " 'ibogaine',\n",
       " 'phytoestrogens',\n",
       " 'Ziziphus spinosa',\n",
       " 'St. Johns Wort']"
      ]
     },
     "execution_count": 50,
     "metadata": {},
     "output_type": "execute_result"
    }
   ],
   "source": [
    "lists"
   ]
  },
  {
   "cell_type": "code",
   "execution_count": 53,
   "metadata": {},
   "outputs": [
    {
     "name": "stdout",
     "output_type": "stream",
     "text": [
      "(products['Product Name'] != 0 )|\n",
      "(products['SKU'] != 0 )|\n",
      "(products['UPC'] != 0 )|\n",
      "(products['Wholesale'] != 0 )|\n",
      "(products['Gold'] != 0 )|\n",
      "(products['MANUFACTURER'] != 0 )|\n",
      "(products['CATEGORY'] != 0 )|\n",
      "(products['SHORT'] != 0 )|\n",
      "(products['DESCRIPTION'] != 0 )|\n",
      "(products['WEIGHT'] != 0 )|\n",
      "(products['IMAGE NAME'] != 0 )|\n",
      "(products['Gluten Free'] != 0 )|\n",
      "(products['Nut Free'] != 0 )|\n",
      "(products['Kosher'] != 0 )|\n",
      "(products['Vegan'] != 0 )|\n",
      "(products['Dairy Free'] != 0 )|\n",
      "(products['Pack Size'] != 0 )|\n",
      "(products['cat1'] != 0 )|\n",
      "(products['cat2'] != 0 )|\n",
      "(products['cat3'] != 0 )|\n",
      "(products['Melissa / Lemonbalm'] != 0 )|\n",
      "(products['Rhodiola / Tibetan Ginseng'] != 0 )|\n",
      "(products['Lysergic Acid Diethylamide / LSD'] != 0 )|\n",
      "(products['Docosahexaenoic acid / DHA'] != 0 )|\n",
      "(products['Lion's Mane / Hericium Erinaceus'] != 0 )|\n",
      "(products['Chlorella / Algae'] != 0 )|\n",
      "(products['Lactobacillus casei / Shirota'] != 0 )|\n",
      "(products['NAC / N-acetyl-L-cysteine'] != 0 )|\n",
      "(products['Nicotinamide adenine dinucleotide / NADH'] != 0 )|\n",
      "(products['DHA / Docosahexaenoic Acid'] != 0 )|\n",
      "(products['EPA / Eicosapentaenoic Acid'] != 0 )|\n",
      "(products['Ginseng / Siberian'] != 0 )|\n",
      "(products['Homeopathic Treatment / Pulsatilla nigricans'] != 0 )|\n",
      "(products['Linden / Tilia'] != 0 )|\n",
      "(products['Pycnogenol / Pine Bark'] != 0 )|\n",
      "(products['Kava Kava'] != 0 )|\n",
      "(products['Lavender'] != 0 )|\n",
      "(products['Vitamin C'] != 0 )|\n",
      "(products['Magnolia'] != 0 )|\n",
      "(products['Rose'] != 0 )|\n",
      "(products['Bergamot'] != 0 )|\n",
      "(products['Chocolate'] != 0 )|\n",
      "(products['Homeopathic '] != 0 )|\n",
      "(products['Lysine'] != 0 )|\n",
      "(products['Phellodendron'] != 0 )|\n",
      "(products['Valerian'] != 0 )|\n",
      "(products['Curcumin'] != 0 )|\n",
      "(products['Rosemary'] != 0 )|\n",
      "(products['Coffee'] != 0 )|\n",
      "(products['Arginine'] != 0 )|\n",
      "(products['Chamomile'] != 0 )|\n",
      "(products['Phosphatidylserine'] != 0 )|\n",
      "(products['Melatonin'] != 0 )|\n",
      "(products['Black Pepper'] != 0 )|\n",
      "(products['Psilocybin'] != 0 )|\n",
      "(products['Theanine'] != 0 )|\n",
      "(products['Caffeine'] != 0 )|\n",
      "(products['Ginkgo biloba'] != 0 )|\n",
      "(products['Motherwort'] != 0 )|\n",
      "(products['Orange'] != 0 )|\n",
      "(products['Patchouli'] != 0 )|\n",
      "(products['Probiotics'] != 0 )|\n",
      "(products['Ylang-ylang'] != 0 )|\n",
      "(products['Zinc'] != 0 )|\n",
      "(products['Holy Basil'] != 0 )|\n",
      "(products['Tryptophan'] != 0 )|\n",
      "(products['Ayahuasca'] != 0 )|\n",
      "(products['Cannabidiol'] != 0 )|\n",
      "(products['Fish Oil'] != 0 )|\n",
      "(products['Gotu Kola'] != 0 )|\n",
      "(products['Vitamin E'] != 0 )|\n",
      "(products['Cannabis'] != 0 )|\n",
      "(products['Skullcap'] != 0 )|\n",
      "(products['Antioxidant formulas'] != 0 )|\n",
      "(products['Ayurvedic Formulations'] != 0 )|\n",
      "(products['Bach Flower Remedies'] != 0 )|\n",
      "(products['Beta Sitosterol'] != 0 )|\n",
      "(products['Black Tea'] != 0 )|\n",
      "(products['Chicken extract'] != 0 )|\n",
      "(products['Coconut'] != 0 )|\n",
      "(products['Epimedium'] != 0 )|\n",
      "(products['Frankincense'] != 0 )|\n",
      "(products['Gourd'] != 0 )|\n",
      "(products['Lemongrass'] != 0 )|\n",
      "(products['Musk '] != 0 )|\n",
      "(products['Omega-3 Fatty Acids'] != 0 )|\n",
      "(products['Passion Flower'] != 0 )|\n",
      "(products['Phosphatidylcholine'] != 0 )|\n",
      "(products['Piperidines'] != 0 )|\n",
      "(products['Pumpkin Seed '] != 0 )|\n",
      "(products['Sweet Orange'] != 0 )|\n",
      "(products['Chinese Skullcap'] != 0 )|\n",
      "(products['Ashwagandha'] != 0 )|\n",
      "(products['Schisandra'] != 0 )|\n",
      "(products['Saffron'] != 0 )|\n",
      "(products['Bifidobacterium Longum'] != 0 )|\n",
      "(products['Cumin'] != 0 )|\n",
      "(products['Echinacea'] != 0 )|\n",
      "(products['Lactobacillus rhamnosus'] != 0 )|\n",
      "(products['Lemon'] != 0 )|\n",
      "(products['Sea buckthorn'] != 0 )|\n",
      "(products['Tualang Honey'] != 0 )|\n",
      "(products['Noni'] != 0 )|\n",
      "(products['Resveratrol'] != 0 )|\n",
      "(products['Astaxanthin'] != 0 )|\n",
      "(products['Bacopa'] != 0 )|\n",
      "(products['Bamboo'] != 0 )|\n",
      "(products['Boerhaavia diffusa'] != 0 )|\n",
      "(products['Buckwheat'] != 0 )|\n",
      "(products['Catechin'] != 0 )|\n",
      "(products['Chokeberry'] != 0 )|\n",
      "(products['Cordyceps sinensis'] != 0 )|\n",
      "(products['Coriandrum sativum'] != 0 )|\n",
      "(products['Damiana'] != 0 )|\n",
      "(products['Geraniol'] != 0 )|\n",
      "(products['Green Tea'] != 0 )|\n",
      "(products['Inula racemosa'] != 0 )|\n",
      "(products['Lactobacillus paracasei'] != 0 )|\n",
      "(products['Lactobacillus probiotics'] != 0 )|\n",
      "(products['Lactobacillus reuteri'] != 0 )|\n",
      "(products['Lingonberry'] != 0 )|\n",
      "(products['Lotus'] != 0 )|\n",
      "(products['Luteolin'] != 0 )|\n",
      "(products['Magnesium'] != 0 )|\n",
      "(products['Mango'] != 0 )|\n",
      "(products['Milk Thistle'] != 0 )|\n",
      "(products['Neem'] != 0 )|\n",
      "(products['Nettle'] != 0 )|\n",
      "(products['Oats'] != 0 )|\n",
      "(products['Peppermint'] != 0 )|\n",
      "(products['Piperine'] != 0 )|\n",
      "(products['Pomegranate'] != 0 )|\n",
      "(products['Prebiotics'] != 0 )|\n",
      "(products['Salvia divinorum'] != 0 )|\n",
      "(products['Shilajit'] != 0 )|\n",
      "(products['Silibinin'] != 0 )|\n",
      "(products['Sulforaphane'] != 0 )|\n",
      "(products['Thistle'] != 0 )|\n",
      "(products['Triphala'] != 0 )|\n",
      "(products['Virgin Coconut Oil'] != 0 )|\n",
      "(products['Whey'] != 0 )|\n",
      "(products['beta-Carotene'] != 0 )|\n",
      "(products['ibogaine'] != 0 )|\n",
      "(products['phytoestrogens'] != 0 )|\n",
      "(products['Ziziphus spinosa'] != 0 )|\n",
      "(products['St. Johns Wort'] != 0 )|\n"
     ]
    }
   ],
   "source": [
    "for g in lists:\n",
    "    print(\"(products['\"+g+\"'] != 0 )|\")"
   ]
  },
  {
   "cell_type": "code",
   "execution_count": 57,
   "metadata": {},
   "outputs": [],
   "source": [
    "new = products[\n",
    "\n",
    "(products['Melissa / Lemonbalm'] != 0 )|\n",
    "(products['Rhodiola / Tibetan Ginseng'] != 0 )|\n",
    "(products['Lysergic Acid Diethylamide / LSD'] != 0 )|\n",
    "(products['Docosahexaenoic acid / DHA'] != 0 )|\n",
    "(products['Lion\\'s Mane / Hericium Erinaceus'] != 0 )|\n",
    "(products['Chlorella / Algae'] != 0 )|\n",
    "(products['Lactobacillus casei / Shirota'] != 0 )|\n",
    "(products['NAC / N-acetyl-L-cysteine'] != 0 )|\n",
    "(products['Nicotinamide adenine dinucleotide / NADH'] != 0 )|\n",
    "(products['DHA / Docosahexaenoic Acid'] != 0 )|\n",
    "(products['EPA / Eicosapentaenoic Acid'] != 0 )|\n",
    "(products['Ginseng / Siberian'] != 0 )|\n",
    "(products['Homeopathic Treatment / Pulsatilla nigricans'] != 0 )|\n",
    "(products['Linden / Tilia'] != 0 )|\n",
    "(products['Pycnogenol / Pine Bark'] != 0 )|\n",
    "(products['Kava Kava'] != 0 )|\n",
    "(products['Lavender'] != 0 )|\n",
    "(products['Vitamin C'] != 0 )|\n",
    "(products['Magnolia'] != 0 )|\n",
    "(products['Rose'] != 0 )|\n",
    "(products['Bergamot'] != 0 )|\n",
    "(products['Chocolate'] != 0 )|\n",
    "(products['Homeopathic '] != 0 )|\n",
    "(products['Lysine'] != 0 )|\n",
    "(products['Phellodendron'] != 0 )|\n",
    "(products['Valerian'] != 0 )|\n",
    "(products['Curcumin'] != 0 )|\n",
    "(products['Rosemary'] != 0 )|\n",
    "(products['Coffee'] != 0 )|\n",
    "(products['Arginine'] != 0 )|\n",
    "(products['Chamomile'] != 0 )|\n",
    "(products['Phosphatidylserine'] != 0 )|\n",
    "(products['Melatonin'] != 0 )|\n",
    "(products['Black Pepper'] != 0 )|\n",
    "(products['Psilocybin'] != 0 )|\n",
    "(products['Theanine'] != 0 )|\n",
    "(products['Caffeine'] != 0 )|\n",
    "(products['Ginkgo biloba'] != 0 )|\n",
    "(products['Motherwort'] != 0 )|\n",
    "(products['Orange'] != 0 )|\n",
    "(products['Patchouli'] != 0 )|\n",
    "(products['Probiotics'] != 0 )|\n",
    "(products['Ylang-ylang'] != 0 )|\n",
    "(products['Zinc'] != 0 )|\n",
    "(products['Holy Basil'] != 0 )|\n",
    "(products['Tryptophan'] != 0 )|\n",
    "(products['Ayahuasca'] != 0 )|\n",
    "(products['Cannabidiol'] != 0 )|\n",
    "(products['Fish Oil'] != 0 )|\n",
    "(products['Gotu Kola'] != 0 )|\n",
    "(products['Vitamin E'] != 0 )|\n",
    "(products['Cannabis'] != 0 )|\n",
    "(products['Skullcap'] != 0 )|\n",
    "(products['Antioxidant formulas'] != 0 )|\n",
    "(products['Ayurvedic Formulations'] != 0 )|\n",
    "(products['Bach Flower Remedies'] != 0 )|\n",
    "(products['Beta Sitosterol'] != 0 )|\n",
    "(products['Black Tea'] != 0 )|\n",
    "(products['Chicken extract'] != 0 )|\n",
    "(products['Coconut'] != 0 )|\n",
    "(products['Epimedium'] != 0 )|\n",
    "(products['Frankincense'] != 0 )|\n",
    "(products['Gourd'] != 0 )|\n",
    "(products['Lemongrass'] != 0 )|\n",
    "(products['Musk '] != 0 )|\n",
    "(products['Omega-3 Fatty Acids'] != 0 )|\n",
    "(products['Passion Flower'] != 0 )|\n",
    "(products['Phosphatidylcholine'] != 0 )|\n",
    "(products['Piperidines'] != 0 )|\n",
    "(products['Pumpkin Seed '] != 0 )|\n",
    "(products['Sweet Orange'] != 0 )|\n",
    "(products['Chinese Skullcap'] != 0 )|\n",
    "(products['Ashwagandha'] != 0 )|\n",
    "(products['Schisandra'] != 0 )|\n",
    "(products['Saffron'] != 0 )|\n",
    "(products['Bifidobacterium Longum'] != 0 )|\n",
    "(products['Cumin'] != 0 )|\n",
    "(products['Echinacea'] != 0 )|\n",
    "(products['Lactobacillus rhamnosus'] != 0 )|\n",
    "(products['Lemon'] != 0 )|\n",
    "(products['Sea buckthorn'] != 0 )|\n",
    "(products['Tualang Honey'] != 0 )|\n",
    "(products['Noni'] != 0 )|\n",
    "(products['Resveratrol'] != 0 )|\n",
    "(products['Astaxanthin'] != 0 )|\n",
    "(products['Bacopa'] != 0 )|\n",
    "(products['Bamboo'] != 0 )|\n",
    "(products['Boerhaavia diffusa'] != 0 )|\n",
    "(products['Buckwheat'] != 0 )|\n",
    "(products['Catechin'] != 0 )|\n",
    "(products['Chokeberry'] != 0 )|\n",
    "(products['Cordyceps sinensis'] != 0 )|\n",
    "(products['Coriandrum sativum'] != 0 )|\n",
    "(products['Damiana'] != 0 )|\n",
    "(products['Geraniol'] != 0 )|\n",
    "(products['Green Tea'] != 0 )|\n",
    "(products['Inula racemosa'] != 0 )|\n",
    "(products['Lactobacillus paracasei'] != 0 )|\n",
    "(products['Lactobacillus probiotics'] != 0 )|\n",
    "(products['Lactobacillus reuteri'] != 0 )|\n",
    "(products['Lingonberry'] != 0 )|\n",
    "(products['Lotus'] != 0 )|\n",
    "(products['Luteolin'] != 0 )|\n",
    "(products['Magnesium'] != 0 )|\n",
    "(products['Mango'] != 0 )|\n",
    "(products['Milk Thistle'] != 0 )|\n",
    "(products['Neem'] != 0 )|\n",
    "(products['Nettle'] != 0 )|\n",
    "(products['Oats'] != 0 )|\n",
    "(products['Peppermint'] != 0 )|\n",
    "(products['Piperine'] != 0 )|\n",
    "(products['Pomegranate'] != 0 )|\n",
    "(products['Prebiotics'] != 0 )|\n",
    "(products['Salvia divinorum'] != 0 )|\n",
    "(products['Shilajit'] != 0 )|\n",
    "(products['Silibinin'] != 0 )|\n",
    "(products['Sulforaphane'] != 0 )|\n",
    "(products['Thistle'] != 0 )|\n",
    "(products['Triphala'] != 0 )|\n",
    "(products['Virgin Coconut Oil'] != 0 )|\n",
    "(products['Whey'] != 0 )|\n",
    "(products['beta-Carotene'] != 0 )|\n",
    "(products['ibogaine'] != 0 )|\n",
    "(products['phytoestrogens'] != 0 )|\n",
    "(products['Ziziphus spinosa'] != 0 )|\n",
    "(products['St. Johns Wort'] != 0 )\n",
    "]    \n"
   ]
  },
  {
   "cell_type": "code",
   "execution_count": 68,
   "metadata": {},
   "outputs": [
    {
     "data": {
      "text/plain": [
       "Int64Index([   19,    27,    30,    31,    32,    39,    42,    46,    54,\n",
       "               61,\n",
       "            ...\n",
       "            18880, 18881, 18882, 18883, 18884, 18885, 18886, 18887, 18888,\n",
       "            18889],\n",
       "           dtype='int64', length=5774)"
      ]
     },
     "execution_count": 68,
     "metadata": {},
     "output_type": "execute_result"
    }
   ],
   "source": [
    "new.index"
   ]
  },
  {
   "cell_type": "markdown",
   "metadata": {},
   "source": [
    "# 2 Select useful category"
   ]
  },
  {
   "cell_type": "code",
   "execution_count": 73,
   "metadata": {},
   "outputs": [
    {
     "data": {
      "text/plain": [
       "array(['Grocery/Drinks/Soy & Milk Alternative',\n",
       "       'Grocery/Condiments/Condiments & Syrup', 'Grocery/Snacks/Crackers',\n",
       "       'Grocery/Condiments/Marinades & Sauces',\n",
       "       'Grocery/Baking Essentials/Cooking Oils',\n",
       "       'Grocery/Teas/Herbal Tea', 'Grocery/Teas/Rooibos & Oolong',\n",
       "       'Grocery/Teas/Black Tea', 'Grocery/Teas/Green Tea',\n",
       "       'Grocery/Teas/Chamomile Tea',\n",
       "       'Grocery/Breakfast Foods/Cereal & Oatmeal',\n",
       "       'Grocery/Baking Essentials/Flour',\n",
       "       'Grocery/Breakfast Foods/Pancake & Waffle Mix',\n",
       "       'Grocery/Breakfast Foods/Granola', 'Grocery/Condiments/Salsa',\n",
       "       'Grocery/Condiments/Salad Dressing', 'Grocery/Snacks/Chocolate',\n",
       "       'Vitamins Supplements/Cold & Flu Care',\n",
       "       'Grocery/Baking Essentials/Ingredients & Mixes',\n",
       "       'Grocery/Grains, Beans & Sides/Beans',\n",
       "       'Grocery/Baking Essentials/Dessert Mix', 'Grocery/Drinks/Juice',\n",
       "       'Grocery/Snacks/Cookies',\n",
       "       'Grocery/Grains, Beans & Sides/Meal Ideas',\n",
       "       'Grocery/Drinks/Energy Drinks',\n",
       "       'Grocery/Meal Ideas/Soups & Bouillon',\n",
       "       'Grocery/Grains, Beans & Sides/Seafood',\n",
       "       'Grocery/Condiments/Vinegar', 'Grocery/Condiments/Jams & Spreads',\n",
       "       'Grocery/Grains, Beans & Sides/Pasta', 'Grocery/Drinks/Coffee',\n",
       "       'Grocery/Drinks/Protein Beverage',\n",
       "       'Grocery/Condiments/Spices & Herbs',\n",
       "       'Grocery/Fruits & Vegetables/Vegetables',\n",
       "       'Grocery/Teas/Wellness Tea', 'Grocery/Teas/Chai Tea',\n",
       "       'Grocery/Condiments/Nut Butters', 'Grocery/Drinks/Water',\n",
       "       'Grocery/Snacks/Nutrition Bars', 'Grocery/Snacks/Nuts & Seeds',\n",
       "       'For Baby/Baby Food', 'Grocery/Snacks/Candy',\n",
       "       'Grocery/Allergy Free/Gluten Free', 'Grocery/Snacks/Trail Mix',\n",
       "       'Grocery/Breakfast Foods/Granola & Pastry Bars',\n",
       "       'Grocery/Grains, Beans & Sides/Rice & Couscous',\n",
       "       'Grocery/Snacks/Kids Snacks', 'Grocery/Allergy Free/Vegan',\n",
       "       'Grocery/Drinks/Soda Seltzer', 'Grocery/Teas/Iced & Bottled Teas',\n",
       "       'Grocery/Teas/White Tea', 'Health & Beauty/Oral Hygiene',\n",
       "       'Health & Beauty/First Aid', 'Health & Beauty/Skin Care',\n",
       "       'Health & Beauty/Facial Care', 'Vitamins Supplements/Supplements',\n",
       "       'Eco-Home/Cleaning Products',\n",
       "       'Vitamins Supplements/Sleep & Stress',\n",
       "       'Health & Beauty/Bath & Shower', 'Health & Beauty/Lotions',\n",
       "       'Health & Beauty/Hair Care', 'Health & Beauty/Aromatherapy',\n",
       "       'Health & Beauty/Liquid Soaps',\n",
       "       'Vitamins Supplements/Energy Supplements',\n",
       "       'Health & Beauty/Kids & Baby', 'Health & Beauty/Sun Care',\n",
       "       'Health & Beauty/Personal Care',\n",
       "       'Vitamins Supplements/Kids Health', 'Eco-Home/Soaps & Cleaners',\n",
       "       'Health & Beauty/Deodorant', 'Health & Beauty/Lip Care',\n",
       "       'Grocery/Baking Essentials/Sweeteners', 'Eco-Home/Air Freshener',\n",
       "       'Eco-Home/Laundry', 'Health & Beauty/Mens',\n",
       "       'Health & Beauty/Bar Soap', 'Vitamins Supplements/Remedies',\n",
       "       'Health & Beauty/Womens Care', 'Grocery/For Pets/Pet Care',\n",
       "       'Grocery/Fruits & Vegetables/Fruits',\n",
       "       'Vitamins Supplements/Allergy Relief', 'Grocery/Condiments/Olives',\n",
       "       'Grocery/Drinks/Other Beverages', 'Grocery/For Pets/Dog Food',\n",
       "       'Grocery/Snacks/Chips', 'Grocery/Condiments/Honey',\n",
       "       'Grocery/Snacks/Popcorn', 'Vitamins Supplements/Digestive Health',\n",
       "       'Vitamins Supplements/Detox', 'Eco-Home/Kitchen Essentials',\n",
       "       'Health & Beauty/Aromatherapy & Massage',\n",
       "       'Health & Beauty/For Baby/Diapers',\n",
       "       'Grocery/Grains, Beans & Sides',\n",
       "       'Eco-Home/Kitchen Soaps & Cleaners', 'Grocery/Snacks/Dried Fruit',\n",
       "       'Grocery/Meal Ideas/Asian Cuisine',\n",
       "       'Health & Beauty/For Baby/Bath Time',\n",
       "       'Health & Beauty/For Baby/Baby Food', 'Grocery/Soups & Bouillon',\n",
       "       'Grocery/Snacks/Gum', 'Grocery/Fruits & Vegetables/Apple Sauce',\n",
       "       'Grocery/Snacks/Pretzels',\n",
       "       'Grocery/Breakfast Foods/Bread & Pastry',\n",
       "       'Health & Beauty/Botanicals & Juices',\n",
       "       'Vitamins Supplements/Skin & Hair', 'For Baby/Health',\n",
       "       'Health & Beauty/Sports Nutrition',\n",
       "       'Vitamins Supplements/Homeopathic', 'Health & Beauty/Dietary',\n",
       "       'For Baby/Toys', 'For Baby/Bath Time',\n",
       "       'Health & Beauty/Shaving & Grooming',\n",
       "       'Health & Beauty/Essential Oils', 'Vitamins Supplements/Vitamins',\n",
       "       'For Baby/Skin Care', 'Vitamins Supplements/Superfoods',\n",
       "       'Health & Beauty/Foot Care', 'Eco-Home/Candles',\n",
       "       'Grocery/For Pets/Treats', 'Eco-Home/Garden',\n",
       "       'Health & Beauty/Insect Repellent', 'For Baby/Feeding Time',\n",
       "       'Grocery/Drinks/Drink Bottles', 'Eco-Home/Tableware & Cutlery',\n",
       "       'Health & Beauty/Cosmetics', 'Grocery/For Pets',\n",
       "       'Eco-Home/Bags & Totes/Biodegradable Bags',\n",
       "       'Eco-Home/Bags & Totes/Grocery Bags', 'Health & Beauty/Nail Care',\n",
       "       'For Baby/Diapers', 'Grocery/Teas/Loose Teas', 'Bulk/Teas/5lb',\n",
       "       'Bulk/Teas/10lb', 'Bulk/Teas/15lb'], dtype=object)"
      ]
     },
     "execution_count": 73,
     "metadata": {},
     "output_type": "execute_result"
    }
   ],
   "source": [
    "cat = new['CATEGORY'].unique()\n",
    "cat"
   ]
  },
  {
   "cell_type": "code",
   "execution_count": 72,
   "metadata": {},
   "outputs": [
    {
     "data": {
      "text/plain": [
       "array(['Grocery', 'Vitamins Supplements', 'For Baby', 'Health & Beauty',\n",
       "       'Eco-Home', 'Bulk'], dtype=object)"
      ]
     },
     "execution_count": 72,
     "metadata": {},
     "output_type": "execute_result"
    }
   ],
   "source": [
    "cat1 = new['cat1'].unique()\n",
    "cat1"
   ]
  },
  {
   "cell_type": "code",
   "execution_count": 75,
   "metadata": {},
   "outputs": [
    {
     "data": {
      "text/plain": [
       "Int64Index([   19,    27,    30,    31,    32,    39,    42,    46,    54,\n",
       "               61,\n",
       "            ...\n",
       "            18880, 18881, 18882, 18883, 18884, 18885, 18886, 18887, 18888,\n",
       "            18889],\n",
       "           dtype='int64', length=5532)"
      ]
     },
     "execution_count": 75,
     "metadata": {},
     "output_type": "execute_result"
    }
   ],
   "source": [
    "new = new[new['cat1']!='Eco-Home']\n",
    "new.index"
   ]
  },
  {
   "cell_type": "code",
   "execution_count": 76,
   "metadata": {},
   "outputs": [
    {
     "data": {
      "text/plain": [
       "array(['Drinks', 'Condiments', 'Snacks', 'Baking Essentials', 'Teas',\n",
       "       'Breakfast Foods', 'Cold & Flu Care', 'Grains, Beans & Sides',\n",
       "       'Meal Ideas', 'Fruits & Vegetables', 'Baby Food', 'Allergy Free',\n",
       "       'Oral Hygiene', 'First Aid', 'Skin Care', 'Facial Care',\n",
       "       'Supplements', 'Sleep & Stress', 'Bath & Shower', 'Lotions',\n",
       "       'Hair Care', 'Aromatherapy', 'Liquid Soaps', 'Energy Supplements',\n",
       "       'Kids & Baby', 'Sun Care', 'Personal Care', 'Kids Health',\n",
       "       'Deodorant', 'Lip Care', 'Mens', 'Bar Soap', 'Remedies',\n",
       "       'Womens Care', 'For Pets', 'Allergy Relief', 'Digestive Health',\n",
       "       'Detox', 'Aromatherapy & Massage', 'For Baby', 'Soups & Bouillon',\n",
       "       'Botanicals & Juices', 'Skin & Hair', 'Health', 'Sports Nutrition',\n",
       "       'Homeopathic', 'Dietary', 'Toys', 'Bath Time',\n",
       "       'Shaving & Grooming', 'Essential Oils', 'Vitamins', 'Superfoods',\n",
       "       'Foot Care', 'Insect Repellent', 'Feeding Time', 'Cosmetics',\n",
       "       'Nail Care', 'Diapers'], dtype=object)"
      ]
     },
     "execution_count": 76,
     "metadata": {},
     "output_type": "execute_result"
    }
   ],
   "source": [
    "cat2= new['cat2'].unique()\n",
    "cat2"
   ]
  },
  {
   "cell_type": "code",
   "execution_count": 79,
   "metadata": {},
   "outputs": [
    {
     "data": {
      "text/plain": [
       "Int64Index([   19,    30,    75,    76,    78,    79,    80,    81,    82,\n",
       "               83,\n",
       "            ...\n",
       "            18880, 18881, 18882, 18883, 18884, 18885, 18886, 18887, 18888,\n",
       "            18889],\n",
       "           dtype='int64', length=3151)"
      ]
     },
     "execution_count": 79,
     "metadata": {},
     "output_type": "execute_result"
    }
   ],
   "source": [
    "new = new[(new['cat2']=='Drinks')|\n",
    "          (new['cat2']=='Snacks')|\n",
    "          (new['cat2']=='Teas')|\n",
    "          (new['cat2']=='Breakfast Foods')|\n",
    "          (new['cat2']=='Grains, Beans & Sides')|\n",
    "          (new['cat2']=='Meal Ideas')|\n",
    "          (new['cat2']=='Baby Food')|\n",
    "          (new['cat2']=='Allergy Free')|\n",
    "          (new['cat2']=='Supplements')|\n",
    "          (new['cat2']=='Sleep & Stress')|\n",
    "          (new['cat2']=='Energy Supplements')|\n",
    "          (new['cat2']=='Kids & Baby')|\n",
    "          (new['cat2']=='Kids Health')|\n",
    "          (new['cat2']=='Mes')|\n",
    "          (new['cat2']=='Soups & Bouillon')|\n",
    "          (new['cat2']=='Botanicals & Juices')|\n",
    "          (new['cat2']=='Health')|\n",
    "          (new['cat2']=='Sports Nutrition')|\n",
    "          (new['cat2']=='Homeopathic')|\n",
    "          (new['cat2']=='Dietary')|\n",
    "          (new['cat2']=='Vitamins')|\n",
    "          (new['cat2']=='Superfoods')|\n",
    "          (new['cat2']=='Feeding Time')\n",
    "         ]\n",
    "new.index"
   ]
  },
  {
   "cell_type": "code",
   "execution_count": 80,
   "metadata": {},
   "outputs": [
    {
     "data": {
      "text/plain": [
       "array(['Soy & Milk Alternative', 'Crackers', 'Herbal Tea',\n",
       "       'Rooibos & Oolong', 'Black Tea', 'Green Tea', 'Chamomile Tea',\n",
       "       'Cereal & Oatmeal', 'Pancake & Waffle Mix', 'Granola', 'Chocolate',\n",
       "       'Beans', 'Juice', 'Cookies', 'Meal Ideas', 'Energy Drinks',\n",
       "       'Soups & Bouillon', 'Seafood', 'Pasta', 'Coffee',\n",
       "       'Protein Beverage', 'Wellness Tea', 'Chai Tea', 'Water',\n",
       "       'Nutrition Bars', 'Nuts & Seeds', nan, 'Candy', 'Gluten Free',\n",
       "       'Trail Mix', 'Granola & Pastry Bars', 'Rice & Couscous',\n",
       "       'Kids Snacks', 'Vegan', 'Soda Seltzer', 'Iced & Bottled Teas',\n",
       "       'White Tea', 'Other Beverages', 'Chips', 'Popcorn', 'Dried Fruit',\n",
       "       'Asian Cuisine', 'Gum', 'Pretzels', 'Bread & Pastry',\n",
       "       'Drink Bottles', 'Loose Teas', '5lb', '10lb', '15lb'], dtype=object)"
      ]
     },
     "execution_count": 80,
     "metadata": {},
     "output_type": "execute_result"
    }
   ],
   "source": [
    "cat3= new['cat3'].unique()\n",
    "cat3"
   ]
  },
  {
   "cell_type": "markdown",
   "metadata": {},
   "source": [
    "# above food related category\n",
    "\n",
    "# 3 product analysis"
   ]
  },
  {
   "cell_type": "code",
   "execution_count": 81,
   "metadata": {},
   "outputs": [
    {
     "data": {
      "text/html": [
       "<div>\n",
       "<style scoped>\n",
       "    .dataframe tbody tr th:only-of-type {\n",
       "        vertical-align: middle;\n",
       "    }\n",
       "\n",
       "    .dataframe tbody tr th {\n",
       "        vertical-align: top;\n",
       "    }\n",
       "\n",
       "    .dataframe thead th {\n",
       "        text-align: right;\n",
       "    }\n",
       "</style>\n",
       "<table border=\"1\" class=\"dataframe\">\n",
       "  <thead>\n",
       "    <tr style=\"text-align: right;\">\n",
       "      <th></th>\n",
       "      <th>Product Name</th>\n",
       "      <th>SKU</th>\n",
       "      <th>UPC</th>\n",
       "      <th>Wholesale</th>\n",
       "      <th>Gold</th>\n",
       "      <th>MANUFACTURER</th>\n",
       "      <th>CATEGORY</th>\n",
       "      <th>SHORT</th>\n",
       "      <th>DESCRIPTION</th>\n",
       "      <th>WEIGHT</th>\n",
       "      <th>...</th>\n",
       "      <th>Sulforaphane</th>\n",
       "      <th>Thistle</th>\n",
       "      <th>Triphala</th>\n",
       "      <th>Virgin Coconut Oil</th>\n",
       "      <th>Whey</th>\n",
       "      <th>beta-Carotene</th>\n",
       "      <th>ibogaine</th>\n",
       "      <th>phytoestrogens</th>\n",
       "      <th>Ziziphus spinosa</th>\n",
       "      <th>St. Johns Wort</th>\n",
       "    </tr>\n",
       "  </thead>\n",
       "  <tbody>\n",
       "    <tr>\n",
       "      <th>19</th>\n",
       "      <td>Blue Diamond Chocolate Almond Breeze (12x32 Oz)</td>\n",
       "      <td>12742</td>\n",
       "      <td>41570068373</td>\n",
       "      <td>28.22</td>\n",
       "      <td>26.81</td>\n",
       "      <td>Blue Diamond</td>\n",
       "      <td>Grocery/Drinks/Soy &amp; Milk Alternative</td>\n",
       "      <td>Blue Diamond Chocolate Almond Breeze (12x32 Oz)</td>\n",
       "      <td>Save  On Blue Diamond 12X 32 Oz Chocolate Almo...</td>\n",
       "      <td>28.2</td>\n",
       "      <td>...</td>\n",
       "      <td>0.0</td>\n",
       "      <td>0.0</td>\n",
       "      <td>0.0</td>\n",
       "      <td>0.0</td>\n",
       "      <td>0.0</td>\n",
       "      <td>0.0</td>\n",
       "      <td>0.0</td>\n",
       "      <td>0.0</td>\n",
       "      <td>0.0</td>\n",
       "      <td>0.0</td>\n",
       "    </tr>\n",
       "    <tr>\n",
       "      <th>30</th>\n",
       "      <td>Sesmark Foods Original Sesame Thins (12x7 Oz)</td>\n",
       "      <td>18740</td>\n",
       "      <td>85693101005</td>\n",
       "      <td>29.87</td>\n",
       "      <td>28.38</td>\n",
       "      <td>Sesmark Foods</td>\n",
       "      <td>Grocery/Snacks/Crackers</td>\n",
       "      <td>Sesmark Foods Original Sesame Thins (12x7 Oz)</td>\n",
       "      <td>Save  On Sesmark Foods 12X 7 Oz Original Sesam...</td>\n",
       "      <td>7.2</td>\n",
       "      <td>...</td>\n",
       "      <td>0.0</td>\n",
       "      <td>0.0</td>\n",
       "      <td>0.0</td>\n",
       "      <td>0.0</td>\n",
       "      <td>0.0</td>\n",
       "      <td>0.0</td>\n",
       "      <td>0.0</td>\n",
       "      <td>0.0</td>\n",
       "      <td>0.0</td>\n",
       "      <td>0.0</td>\n",
       "    </tr>\n",
       "    <tr>\n",
       "      <th>75</th>\n",
       "      <td>Numi Tea Dry Desert Lime Herbal Tea (6x18 Bag)</td>\n",
       "      <td>19371</td>\n",
       "      <td>680692101010</td>\n",
       "      <td>31.99</td>\n",
       "      <td>30.39</td>\n",
       "      <td>Numi Tea</td>\n",
       "      <td>Grocery/Teas/Herbal Tea</td>\n",
       "      <td>Numi Tea Dry Desert Lime Herbal Tea (6x18 Bag)</td>\n",
       "      <td>Save on Numi Tea 6X 18 Bag Dry Desert Lime Her...</td>\n",
       "      <td>1.6</td>\n",
       "      <td>...</td>\n",
       "      <td>0.0</td>\n",
       "      <td>0.0</td>\n",
       "      <td>0.0</td>\n",
       "      <td>0.0</td>\n",
       "      <td>0.0</td>\n",
       "      <td>0.0</td>\n",
       "      <td>0.0</td>\n",
       "      <td>0.0</td>\n",
       "      <td>0.0</td>\n",
       "      <td>0.0</td>\n",
       "    </tr>\n",
       "    <tr>\n",
       "      <th>76</th>\n",
       "      <td>Numi Tea Rooibos Herb Herbal Tea (6x18 Bag)</td>\n",
       "      <td>19372</td>\n",
       "      <td>680692101027</td>\n",
       "      <td>31.99</td>\n",
       "      <td>30.39</td>\n",
       "      <td>Numi Tea</td>\n",
       "      <td>Grocery/Teas/Rooibos &amp; Oolong</td>\n",
       "      <td>Numi Tea Rooibos Herb Herbal Tea (6x18 Bag)</td>\n",
       "      <td>Save on Numi Tea 6X 18 Bag Rooibos Herb Herbal...</td>\n",
       "      <td>1.6</td>\n",
       "      <td>...</td>\n",
       "      <td>0.0</td>\n",
       "      <td>0.0</td>\n",
       "      <td>0.0</td>\n",
       "      <td>0.0</td>\n",
       "      <td>0.0</td>\n",
       "      <td>0.0</td>\n",
       "      <td>0.0</td>\n",
       "      <td>0.0</td>\n",
       "      <td>0.0</td>\n",
       "      <td>0.0</td>\n",
       "    </tr>\n",
       "    <tr>\n",
       "      <th>78</th>\n",
       "      <td>Numi Tea Chinese Breakfast Black Tea (6x18 Bag)</td>\n",
       "      <td>19374</td>\n",
       "      <td>680692101065</td>\n",
       "      <td>31.99</td>\n",
       "      <td>30.39</td>\n",
       "      <td>Numi Tea</td>\n",
       "      <td>Grocery/Teas/Black Tea</td>\n",
       "      <td>Numi Tea Chinese Breakfast Black Tea (6x18 Bag)</td>\n",
       "      <td>Save on Numi Tea 6X 18 Bag Chinese Breakfast B...</td>\n",
       "      <td>1.5</td>\n",
       "      <td>...</td>\n",
       "      <td>0.0</td>\n",
       "      <td>0.0</td>\n",
       "      <td>0.0</td>\n",
       "      <td>0.0</td>\n",
       "      <td>0.0</td>\n",
       "      <td>0.0</td>\n",
       "      <td>0.0</td>\n",
       "      <td>0.0</td>\n",
       "      <td>0.0</td>\n",
       "      <td>0.0</td>\n",
       "    </tr>\n",
       "  </tbody>\n",
       "</table>\n",
       "<p>5 rows × 146 columns</p>\n",
       "</div>"
      ],
      "text/plain": [
       "                                       Product Name    SKU           UPC  \\\n",
       "19  Blue Diamond Chocolate Almond Breeze (12x32 Oz)  12742   41570068373   \n",
       "30    Sesmark Foods Original Sesame Thins (12x7 Oz)  18740   85693101005   \n",
       "75   Numi Tea Dry Desert Lime Herbal Tea (6x18 Bag)  19371  680692101010   \n",
       "76      Numi Tea Rooibos Herb Herbal Tea (6x18 Bag)  19372  680692101027   \n",
       "78  Numi Tea Chinese Breakfast Black Tea (6x18 Bag)  19374  680692101065   \n",
       "\n",
       "    Wholesale   Gold   MANUFACTURER                               CATEGORY  \\\n",
       "19      28.22  26.81   Blue Diamond  Grocery/Drinks/Soy & Milk Alternative   \n",
       "30      29.87  28.38  Sesmark Foods                Grocery/Snacks/Crackers   \n",
       "75      31.99  30.39       Numi Tea                Grocery/Teas/Herbal Tea   \n",
       "76      31.99  30.39       Numi Tea          Grocery/Teas/Rooibos & Oolong   \n",
       "78      31.99  30.39       Numi Tea                 Grocery/Teas/Black Tea   \n",
       "\n",
       "                                              SHORT  \\\n",
       "19  Blue Diamond Chocolate Almond Breeze (12x32 Oz)   \n",
       "30    Sesmark Foods Original Sesame Thins (12x7 Oz)   \n",
       "75   Numi Tea Dry Desert Lime Herbal Tea (6x18 Bag)   \n",
       "76      Numi Tea Rooibos Herb Herbal Tea (6x18 Bag)   \n",
       "78  Numi Tea Chinese Breakfast Black Tea (6x18 Bag)   \n",
       "\n",
       "                                          DESCRIPTION  WEIGHT  ...  \\\n",
       "19  Save  On Blue Diamond 12X 32 Oz Chocolate Almo...    28.2  ...   \n",
       "30  Save  On Sesmark Foods 12X 7 Oz Original Sesam...     7.2  ...   \n",
       "75  Save on Numi Tea 6X 18 Bag Dry Desert Lime Her...     1.6  ...   \n",
       "76  Save on Numi Tea 6X 18 Bag Rooibos Herb Herbal...     1.6  ...   \n",
       "78  Save on Numi Tea 6X 18 Bag Chinese Breakfast B...     1.5  ...   \n",
       "\n",
       "   Sulforaphane Thistle Triphala Virgin Coconut Oil Whey beta-Carotene  \\\n",
       "19          0.0     0.0      0.0                0.0  0.0           0.0   \n",
       "30          0.0     0.0      0.0                0.0  0.0           0.0   \n",
       "75          0.0     0.0      0.0                0.0  0.0           0.0   \n",
       "76          0.0     0.0      0.0                0.0  0.0           0.0   \n",
       "78          0.0     0.0      0.0                0.0  0.0           0.0   \n",
       "\n",
       "   ibogaine phytoestrogens Ziziphus spinosa St. Johns Wort  \n",
       "19      0.0            0.0              0.0            0.0  \n",
       "30      0.0            0.0              0.0            0.0  \n",
       "75      0.0            0.0              0.0            0.0  \n",
       "76      0.0            0.0              0.0            0.0  \n",
       "78      0.0            0.0              0.0            0.0  \n",
       "\n",
       "[5 rows x 146 columns]"
      ]
     },
     "execution_count": 81,
     "metadata": {},
     "output_type": "execute_result"
    }
   ],
   "source": [
    "new.head(5)"
   ]
  },
  {
   "cell_type": "markdown",
   "metadata": {},
   "source": [
    "# categorical analysis"
   ]
  },
  {
   "cell_type": "code",
   "execution_count": 82,
   "metadata": {},
   "outputs": [
    {
     "data": {
      "text/plain": [
       "array([<matplotlib.axes._subplots.AxesSubplot object at 0x000001E4C5BF30A0>],\n",
       "      dtype=object)"
      ]
     },
     "execution_count": 82,
     "metadata": {},
     "output_type": "execute_result"
    },
    {
     "data": {
      "image/png": "[encoded data removed]",
      "text/plain": [
       "<Figure size 1440x720 with 1 Axes>"
      ]
     },
     "metadata": {
      "needs_background": "light"
     },
     "output_type": "display_data"
    }
   ],
   "source": [
    "new['cat1'].value_counts().plot.bar(subplots=True,figsize=(20,10))"
   ]
  },
  {
   "cell_type": "code",
   "execution_count": 83,
   "metadata": {},
   "outputs": [
    {
     "data": {
      "text/plain": [
       "array([<matplotlib.axes._subplots.AxesSubplot object at 0x000001E4BBAEB880>],\n",
       "      dtype=object)"
      ]
     },
     "execution_count": 83,
     "metadata": {},
     "output_type": "execute_result"
    },
    {
     "data": {
      "image/png": "[encoded data removed]",
      "text/plain": [
       "<Figure size 1440x720 with 1 Axes>"
      ]
     },
     "metadata": {
      "needs_background": "light"
     },
     "output_type": "display_data"
    }
   ],
   "source": [
    "new['cat2'].value_counts().plot.bar(subplots=True,figsize=(20,10))"
   ]
  },
  {
   "cell_type": "markdown",
   "metadata": {},
   "source": [
    "# We pick the top 10 cat2 from above"
   ]
  },
  {
   "cell_type": "code",
   "execution_count": 86,
   "metadata": {},
   "outputs": [
    {
     "data": {
      "text/plain": [
       "Int64Index([   19,    30,    75,    76,    78,    79,    80,    81,    82,\n",
       "               83,\n",
       "            ...\n",
       "            18880, 18881, 18882, 18883, 18884, 18885, 18886, 18887, 18888,\n",
       "            18889],\n",
       "           dtype='int64', length=2716)"
      ]
     },
     "execution_count": 86,
     "metadata": {},
     "output_type": "execute_result"
    }
   ],
   "source": [
    "new = new[(new['cat2']=='Drinks')|\n",
    "          (new['cat2']=='Snacks')|\n",
    "          (new['cat2']=='Teas')|  \n",
    "          (new['cat2']=='Supplements')|\n",
    "          (new['cat2']=='Sleep & Stress')|\n",
    "          (new['cat2']=='Botanicals & Juices')|\n",
    "          (new['cat2']=='Sports Nutrition')|\n",
    "          (new['cat2']=='Homeopathic')|\n",
    "          (new['cat2']=='Dietary')|\n",
    "          (new['cat2']=='Vitamins')\n",
    "         ]\n",
    "new.index"
   ]
  },
  {
   "cell_type": "code",
   "execution_count": 87,
   "metadata": {},
   "outputs": [
    {
     "data": {
      "text/plain": [
       "array([<matplotlib.axes._subplots.AxesSubplot object at 0x000001E4C89DE5B0>],\n",
       "      dtype=object)"
      ]
     },
     "execution_count": 87,
     "metadata": {},
     "output_type": "execute_result"
    },
    {
     "data": {
      "image/png": "[encoded data removed]",
      "text/plain": [
       "<Figure size 1440x720 with 1 Axes>"
      ]
     },
     "metadata": {
      "needs_background": "light"
     },
     "output_type": "display_data"
    }
   ],
   "source": [
    "new['cat3'].value_counts().plot.bar(subplots=True,figsize=(20,10))"
   ]
  },
  {
   "cell_type": "markdown",
   "metadata": {},
   "source": [
    "# effective ingredients => tea & snacks such as bars,cho\n",
    "## box => pure tea\n",
    "## box => mix box =>tea + functional snacks"
   ]
  },
  {
   "cell_type": "markdown",
   "metadata": {},
   "source": [
    "# Clustering analysis"
   ]
  },
  {
   "cell_type": "code",
   "execution_count": 93,
   "metadata": {},
   "outputs": [
    {
     "data": {
      "text/plain": [
       "array([[0., 0., 0., ..., 0., 0., 0.],\n",
       "       [0., 0., 0., ..., 0., 0., 0.],\n",
       "       [0., 0., 0., ..., 0., 0., 0.],\n",
       "       ...,\n",
       "       [0., 0., 0., ..., 0., 0., 0.],\n",
       "       [0., 0., 0., ..., 0., 0., 0.],\n",
       "       [0., 0., 0., ..., 0., 0., 0.]])"
      ]
     },
     "execution_count": 93,
     "metadata": {},
     "output_type": "execute_result"
    }
   ],
   "source": [
    "x = new[[ 'Melissa / Lemonbalm',\n",
    " 'Rhodiola / Tibetan Ginseng',\n",
    " 'Lysergic Acid Diethylamide / LSD',\n",
    " 'Docosahexaenoic acid / DHA',\n",
    " 'Lion\\'s Mane / Hericium Erinaceus',\n",
    " 'Chlorella / Algae',\n",
    " 'Lactobacillus casei / Shirota',\n",
    " 'NAC / N-acetyl-L-cysteine',\n",
    " 'Nicotinamide adenine dinucleotide / NADH',\n",
    " 'DHA / Docosahexaenoic Acid',\n",
    " 'EPA / Eicosapentaenoic Acid',\n",
    " 'Ginseng / Siberian',\n",
    " 'Homeopathic Treatment / Pulsatilla nigricans',\n",
    " 'Linden / Tilia',\n",
    " 'Pycnogenol / Pine Bark',\n",
    " 'Kava Kava',\n",
    " 'Lavender',\n",
    " 'Vitamin C',\n",
    " 'Magnolia',\n",
    " 'Rose',\n",
    " 'Bergamot',\n",
    " 'Chocolate',\n",
    " 'Homeopathic ',\n",
    " 'Lysine',\n",
    " 'Phellodendron',\n",
    " 'Valerian',\n",
    " 'Curcumin',\n",
    " 'Rosemary',\n",
    " 'Coffee',\n",
    " 'Arginine',\n",
    " 'Chamomile',\n",
    " 'Phosphatidylserine',\n",
    " 'Melatonin',\n",
    " 'Black Pepper',\n",
    " 'Psilocybin',\n",
    " 'Theanine',\n",
    " 'Caffeine',\n",
    " 'Ginkgo biloba',\n",
    " 'Motherwort',\n",
    " 'Orange',\n",
    " 'Patchouli',\n",
    " 'Probiotics',\n",
    " 'Ylang-ylang',\n",
    " 'Zinc',\n",
    " 'Holy Basil',\n",
    " 'Tryptophan',\n",
    " 'Ayahuasca',\n",
    " 'Cannabidiol',\n",
    " 'Fish Oil',\n",
    " 'Gotu Kola',\n",
    " 'Vitamin E',\n",
    " 'Cannabis',\n",
    " 'Skullcap',\n",
    " 'Antioxidant formulas',\n",
    " 'Ayurvedic Formulations',\n",
    " 'Bach Flower Remedies',\n",
    " 'Beta Sitosterol',\n",
    " 'Black Tea',\n",
    " 'Chicken extract',\n",
    " 'Coconut',\n",
    " 'Epimedium',\n",
    " 'Frankincense',\n",
    " 'Gourd',\n",
    " 'Lemongrass',\n",
    " 'Musk ',\n",
    " 'Omega-3 Fatty Acids',\n",
    " 'Passion Flower',\n",
    " 'Phosphatidylcholine',\n",
    " 'Piperidines',\n",
    " 'Pumpkin Seed ',\n",
    " 'Sweet Orange',\n",
    " 'Chinese Skullcap',\n",
    " 'Ashwagandha',\n",
    " 'Schisandra',\n",
    " 'Saffron',\n",
    " 'Bifidobacterium Longum',\n",
    " 'Cumin',\n",
    " 'Echinacea',\n",
    " 'Lactobacillus rhamnosus',\n",
    " 'Lemon',\n",
    " 'Sea buckthorn',\n",
    " 'Tualang Honey',\n",
    " 'Noni',\n",
    " 'Resveratrol',\n",
    " 'Astaxanthin',\n",
    " 'Bacopa',\n",
    " 'Bamboo',\n",
    " 'Boerhaavia diffusa',\n",
    " 'Buckwheat',\n",
    " 'Catechin',\n",
    " 'Chokeberry',\n",
    " 'Cordyceps sinensis',\n",
    " 'Coriandrum sativum',\n",
    " 'Damiana',\n",
    " 'Geraniol',\n",
    " 'Green Tea',\n",
    " 'Inula racemosa',\n",
    " 'Lactobacillus paracasei',\n",
    " 'Lactobacillus probiotics',\n",
    " 'Lactobacillus reuteri',\n",
    " 'Lingonberry',\n",
    " 'Lotus',\n",
    " 'Luteolin',\n",
    " 'Magnesium',\n",
    " 'Mango',\n",
    " 'Milk Thistle',\n",
    " 'Neem',\n",
    " 'Nettle',\n",
    " 'Oats',\n",
    " 'Peppermint',\n",
    " 'Piperine',\n",
    " 'Pomegranate',\n",
    " 'Prebiotics',\n",
    " 'Salvia divinorum',\n",
    " 'Shilajit',\n",
    " 'Silibinin',\n",
    " 'Sulforaphane',\n",
    " 'Thistle',\n",
    " 'Triphala',\n",
    " 'Virgin Coconut Oil',\n",
    " 'Whey',\n",
    " 'beta-Carotene',\n",
    " 'ibogaine',\n",
    " 'phytoestrogens',\n",
    " 'Ziziphus spinosa',\n",
    " 'St. Johns Wort']].values\n",
    "\n",
    "x"
   ]
  },
  {
   "cell_type": "code",
   "execution_count": null,
   "metadata": {},
   "outputs": [],
   "source": [
    "from sklearn.cluster import KMeans\n",
    "\n",
    "kms = KMeans(n_clusters=7)\n",
    "y = kms.fit_predict(x)"
   ]
  },
  {
   "cell_type": "code",
   "execution_count": null,
   "metadata": {},
   "outputs": [],
   "source": []
  }
 ],
 "metadata": {
  "kernelspec": {
   "display_name": "Python 3",
   "language": "python",
   "name": "python3"
  },
  "language_info": {
   "codemirror_mode": {
    "name": "ipython",
    "version": 3
   },
   "file_extension": ".py",
   "mimetype": "text/x-python",
   "name": "python",
   "nbconvert_exporter": "python",
   "pygments_lexer": "ipython3",
   "version": "3.8.5"
  }
 },
 "nbformat": 4,
 "nbformat_minor": 4
}
